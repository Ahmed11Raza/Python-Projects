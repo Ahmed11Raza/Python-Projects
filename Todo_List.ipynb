{
  "nbformat": 4,
  "nbformat_minor": 0,
  "metadata": {
    "colab": {
      "provenance": [],
      "authorship_tag": "ABX9TyOb2jEUbGvkBuVg1aTCw3Dy",
      "include_colab_link": true
    },
    "kernelspec": {
      "name": "python3",
      "display_name": "Python 3"
    },
    "language_info": {
      "name": "python"
    }
  },
  "cells": [
    {
      "cell_type": "markdown",
      "metadata": {
        "id": "view-in-github",
        "colab_type": "text"
      },
      "source": [
        "<a href=\"https://colab.research.google.com/github/Ahmed11Raza/Python-Projects/blob/main/Todo_List.ipynb\" target=\"_parent\"><img src=\"https://colab.research.google.com/assets/colab-badge.svg\" alt=\"Open In Colab\"/></a>"
      ]
    },
    {
      "cell_type": "markdown",
      "source": [
        "#Todo list by python\n"
      ],
      "metadata": {
        "id": "rnJMBzr7ZXng"
      }
    },
    {
      "cell_type": "code",
      "source": [
        "import json\n",
        "import os\n",
        "\n",
        "# File to store the tasks\n",
        "TASKS_FILE = 'tasks.json'\n",
        "\n",
        "# Load tasks from the file\n",
        "def load_tasks():\n",
        "    if os.path.exists(TASKS_FILE):\n",
        "        with open(TASKS_FILE, 'r') as file:\n",
        "            return json.load(file)\n",
        "    return []\n",
        "\n",
        "# Save tasks to the file\n",
        "def save_tasks(tasks):\n",
        "    with open(TASKS_FILE, 'w') as file:\n",
        "        json.dump(tasks, file, indent=4)\n",
        "\n",
        "# Add a new task\n",
        "def add_task(tasks, task):\n",
        "    tasks.append({'task': task, 'completed': False})\n",
        "    save_tasks(tasks)\n",
        "\n",
        "# View all tasks\n",
        "def view_tasks(tasks):\n",
        "    for idx, task in enumerate(tasks, start=1):\n",
        "        status = 'Completed' if task['completed'] else 'Pending'\n",
        "        print(f\"{idx}. {task['task']} - {status}\")\n",
        "\n",
        "# Mark a task as complete\n",
        "def complete_task(tasks, task_number):\n",
        "    if 1 <= task_number <= len(tasks):\n",
        "        tasks[task_number - 1]['completed'] = True\n",
        "        save_tasks(tasks)\n",
        "    else:\n",
        "        print(\"Invalid task number.\")\n",
        "\n",
        "# Delete a task\n",
        "def delete_task(tasks, task_number):\n",
        "    if 1 <= task_number <= len(tasks):\n",
        "        del tasks[task_number - 1]\n",
        "        save_tasks(tasks)\n",
        "    else:\n",
        "        print(\"Invalid task number.\")\n",
        "\n",
        "# Main function to run the app\n",
        "def main():\n",
        "    tasks = load_tasks()\n",
        "    while True:\n",
        "        print(\"\\nTo-Do List App\")\n",
        "        print(\"1. Add Task\")\n",
        "        print(\"2. View Tasks\")\n",
        "        print(\"3. Mark Task as Complete\")\n",
        "        print(\"4. Delete Task\")\n",
        "        print(\"5. Exit\")\n",
        "        choice = input(\"Enter your choice: \")\n",
        "\n",
        "        if choice == '1':\n",
        "            task = input(\"Enter the task: \")\n",
        "            add_task(tasks, task)\n",
        "        elif choice == '2':\n",
        "            view_tasks(tasks)\n",
        "        elif choice == '3':\n",
        "            task_number = int((\"Enter the task number to mark as complete: \"))\n",
        "            complete_task(tasks, task_number)\n",
        "        elif choice == '4':\n",
        "            task_number = int(input(\"Enter the task number to delete: \"))\n",
        "            delete_task(tasks, task_number)\n",
        "        elif choice == '5':\n",
        "            print(\"Exiting the app.\")\n",
        "            break\n",
        "        else:\n",
        "            print(\"Invalid choice. Please try again.\")\n",
        "\n",
        "if __name__ == \"__main__\":\n",
        "    main()\n"
      ],
      "metadata": {
        "id": "bm5U6TJ9Zgzs"
      },
      "execution_count": null,
      "outputs": []
    }
  ]
}