{
  "nbformat": 4,
  "nbformat_minor": 0,
  "metadata": {
    "colab": {
      "provenance": [],
      "gpuType": "T4",
      "authorship_tag": "ABX9TyN94D1Ifx2mPCTQYdDk1A1W",
      "include_colab_link": true
    },
    "kernelspec": {
      "name": "python3",
      "display_name": "Python 3"
    },
    "language_info": {
      "name": "python"
    }
  },
  "cells": [
    {
      "cell_type": "markdown",
      "metadata": {
        "id": "view-in-github",
        "colab_type": "text"
      },
      "source": [
        "<a href=\"https://colab.research.google.com/github/Ahmed11Raza/Python-Projects/blob/main/Ai_chatbot.ipynb\" target=\"_parent\"><img src=\"https://colab.research.google.com/assets/colab-badge.svg\" alt=\"Open In Colab\"/></a>"
      ]
    },
    {
      "cell_type": "markdown",
      "source": [
        "# **AI CHATBOT :**"
      ],
      "metadata": {
        "id": "jaAuRD2-5FKH"
      }
    },
    {
      "cell_type": "code",
      "source": [
        "import re\n",
        "\n",
        "def chatbot():\n",
        "    print(\"Hello! I'm your friendly chatbot. Ask me anything, or type 'quit' to exit.\")\n",
        "\n",
        "    responses = {\n",
        "        r'hello|hi|hey': \"Hi there! How can I help you?\",\n",
        "        r'how are you\\??': \"I'm just a program, but I'm running smoothly. How about you?\",\n",
        "        r'what is your name\\??': \"I'm Chatbot, your virtual assistant!\",\n",
        "        r'what can you do\\??': \"I can chat with you, answer basic questions, and make your day better!\",\n",
        "        r'where are you from\\??': \"I exist in the digital world, ready to assist you anytime!\",\n",
        "        r'tell me a joke\\??': \"Why don’t skeletons fight each other? Because they don’t have the guts!\",\n",
        "        r'what is the meaning of life\\??': \"42, according to The Hitchhiker's Guide to the Galaxy!\",\n",
        "        r'can you help me with (.*)': \"Of course! Let me know how I can assist you with \\1.\",\n",
        "        r'i feel (happy|sad|angry|excited)': \"It's okay to feel \\1. I'm here to chat if you want to talk more.\",\n",
        "        r'do you like (.*)': \"I'm just a bot, but \\1 sounds interesting!\",\n",
        "        r'(bye|quit|exit)': \"Goodbye! Have a wonderful day!\",\n",
        "        r'(.*)': \"I'm sorry, I didn't understand that. Could you rephrase?\"\n",
        "    }\n",
        "\n",
        "    while True:\n",
        "        user_input = input(\"You: \").lower()\n",
        "        if user_input in ['quit', 'exit', 'bye']:\n",
        "            print(\"Chatbot: Goodbye! Take care!\")\n",
        "            break\n",
        "\n",
        "        matched = False\n",
        "        for pattern, response in responses.items():\n",
        "            match = re.search(pattern, user_input)\n",
        "            if match:\n",
        "                print(f\"Chatbot: {response.format(*match.groups()) if match.groups() else response}\")\n",
        "                matched = True\n",
        "                break\n",
        "\n",
        "        if not matched:\n",
        "            print(\"Chatbot: Hmm, I'm not sure how to respond to that.\")\n",
        "\n",
        "if __name__ == \"__main__\":\n",
        "    chatbot()\n"
      ],
      "metadata": {
        "colab": {
          "base_uri": "https://localhost:8080/"
        },
        "id": "LyxPeUZE4QrY",
        "outputId": "c99a076a-58c5-4a2f-b262-d02655dad073"
      },
      "execution_count": 4,
      "outputs": [
        {
          "output_type": "stream",
          "name": "stdout",
          "text": [
            "Hello! I'm your friendly chatbot. Ask me anything, or type 'quit' to exit.\n",
            "You: helo\n",
            "Chatbot: I'm sorry, I didn't understand that. Could you rephrase?\n",
            "You: hey\n",
            "Chatbot: Hi there! How can I help you?\n",
            "You: how are you?\n",
            "Chatbot: I'm just a program, but I'm running smoothly. How about you?\n",
            "You: i am also fine can you help me to create a project\n",
            "Chatbot: I'm sorry, I didn't understand that. Could you rephrase?\n",
            "You: what is your name\n",
            "Chatbot: I'm Chatbot, your virtual assistant!\n",
            "You: what you can do\n",
            "Chatbot: I'm sorry, I didn't understand that. Could you rephrase?\n",
            "You: what can you do?\n",
            "Chatbot: I can chat with you, answer basic questions, and make your day better!\n",
            "You: what is the meaning of life ?\n",
            "Chatbot: 42, according to The Hitchhiker's Guide to the Galaxy!\n",
            "You: ok great bye\n",
            "Chatbot: Goodbye! Have a wonderful day!\n",
            "You: exit\n",
            "Chatbot: Goodbye! Take care!\n"
          ]
        }
      ]
    }
  ]
}