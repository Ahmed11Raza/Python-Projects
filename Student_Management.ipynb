{
  "nbformat": 4,
  "nbformat_minor": 0,
  "metadata": {
    "colab": {
      "provenance": [],
      "authorship_tag": "ABX9TyP72d4NQwjXErwScI0EWULn",
      "include_colab_link": true
    },
    "kernelspec": {
      "name": "python3",
      "display_name": "Python 3"
    },
    "language_info": {
      "name": "python"
    }
  },
  "cells": [
    {
      "cell_type": "markdown",
      "metadata": {
        "id": "view-in-github",
        "colab_type": "text"
      },
      "source": [
        "<a href=\"https://colab.research.google.com/github/Ahmed11Raza/Python-Projects/blob/main/Student_Management.ipynb\" target=\"_parent\"><img src=\"https://colab.research.google.com/assets/colab-badge.svg\" alt=\"Open In Colab\"/></a>"
      ]
    },
    {
      "cell_type": "code",
      "source": [
        "students = []\n",
        "\n",
        "class Student:\n",
        "    def __init__(self, name, roll_no, grade):\n",
        "        self.name = name\n",
        "        self.roll_no = roll_no\n",
        "        self.grade = grade\n",
        "\n",
        "    def __str__(self):\n",
        "        return f\"Roll No: {self.roll_no}, Name: {self.name}, Grade: {self.grade}\"\n",
        "\n",
        "def add_student():\n",
        "    name = input(\"Enter name: \")\n",
        "    roll_no = input(\"Enter roll number: \")\n",
        "    grade = input(\"Enter grade: \")\n",
        "\n",
        "    if not (name and roll_no and grade):\n",
        "        print(\"Error: All fields are required.\")\n",
        "        return\n",
        "\n",
        "    if any(student.roll_no == roll_no for student in students):\n",
        "        print(\"Error: Roll number must be unique.\")\n",
        "        return\n",
        "\n",
        "    student = Student(name, roll_no, grade)\n",
        "    students.append(student)\n",
        "    print(\"Student added successfully.\")\n",
        "\n",
        "def delete_student():\n",
        "    roll_no = input(\"Enter roll number of the student to delete: \")\n",
        "\n",
        "    for i, student in enumerate(students):\n",
        "        if student.roll_no == roll_no:\n",
        "            students.pop(i)\n",
        "            print(\"Student deleted successfully.\")\n",
        "            return\n",
        "\n",
        "    print(\"Error: Student not found.\")\n",
        "\n",
        "def view_students():\n",
        "    if not students:\n",
        "        print(\"No students to display.\")\n",
        "        return\n",
        "\n",
        "    for student in students:\n",
        "        print(student)\n",
        "\n",
        "def main_menu():\n",
        "    while True:\n",
        "        print(\"\\nStudent Management System\")\n",
        "        print(\"1. Add Student\")\n",
        "        print(\"2. Delete Student\")\n",
        "        print(\"3. View Students\")\n",
        "        print(\"4. Exit\")\n",
        "\n",
        "        choice = input(\"Enter your choice: \")\n",
        "\n",
        "        if choice == \"1\":\n",
        "            add_student()\n",
        "        elif choice == \"2\":\n",
        "            delete_student()\n",
        "        elif choice == \"3\":\n",
        "            view_students()\n",
        "        elif choice == \"4\":\n",
        "            print(\"Exiting the program.\")\n",
        "            break\n",
        "        else:\n",
        "            print(\"Invalid choice. Please try again.\")\n",
        "\n",
        "if __name__ == \"__main__\":\n",
        "    main_menu()\n"
      ],
      "metadata": {
        "colab": {
          "base_uri": "https://localhost:8080/"
        },
        "id": "5O3hQJWHDFej",
        "outputId": "c4aa33ce-4cb6-45a8-a135-40965918820c"
      },
      "execution_count": 7,
      "outputs": [
        {
          "output_type": "stream",
          "name": "stdout",
          "text": [
            "\n",
            "Student Management System\n",
            "1. Add Student\n",
            "2. Delete Student\n",
            "3. View Students\n",
            "4. Exit\n",
            "Enter your choice: 1\n",
            "Enter name: AhmedRaza\n",
            "Enter roll number: 1001\n",
            "Enter grade: A\n",
            "Student added successfully.\n",
            "\n",
            "Student Management System\n",
            "1. Add Student\n",
            "2. Delete Student\n",
            "3. View Students\n",
            "4. Exit\n",
            "Enter your choice: 1\n",
            "Enter name: Ali\n",
            "Enter roll number: 1002\n",
            "Enter grade: B\n",
            "Student added successfully.\n",
            "\n",
            "Student Management System\n",
            "1. Add Student\n",
            "2. Delete Student\n",
            "3. View Students\n",
            "4. Exit\n",
            "Enter your choice: 3\n",
            "Roll No: 1001, Name: AhmedRaza, Grade: A\n",
            "Roll No: 1002, Name: Ali, Grade: B\n",
            "\n",
            "Student Management System\n",
            "1. Add Student\n",
            "2. Delete Student\n",
            "3. View Students\n",
            "4. Exit\n",
            "Enter your choice: 4\n",
            "Exiting the program.\n"
          ]
        }
      ]
    },
    {
      "cell_type": "code",
      "source": [],
      "metadata": {
        "id": "9rV_G5HaEgil"
      },
      "execution_count": null,
      "outputs": []
    }
  ]
}