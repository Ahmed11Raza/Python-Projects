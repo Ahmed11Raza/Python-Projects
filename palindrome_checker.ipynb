{
  "nbformat": 4,
  "nbformat_minor": 0,
  "metadata": {
    "colab": {
      "provenance": [],
      "authorship_tag": "ABX9TyP0u06A8/bQ7UabGfyNmn4e",
      "include_colab_link": true
    },
    "kernelspec": {
      "name": "python3",
      "display_name": "Python 3"
    },
    "language_info": {
      "name": "python"
    }
  },
  "cells": [
    {
      "cell_type": "markdown",
      "metadata": {
        "id": "view-in-github",
        "colab_type": "text"
      },
      "source": [
        "<a href=\"https://colab.research.google.com/github/Ahmed11Raza/Python-Projects/blob/main/palindrome_checker.ipynb\" target=\"_parent\"><img src=\"https://colab.research.google.com/assets/colab-badge.svg\" alt=\"Open In Colab\"/></a>"
      ]
    },
    {
      "cell_type": "code",
      "execution_count": 1,
      "metadata": {
        "colab": {
          "base_uri": "https://localhost:8080/",
          "height": 65
        },
        "id": "cCqgrn3UuTHV",
        "outputId": "fe269be2-93c5-47e9-a8f4-bb2ec756c3e3"
      },
      "outputs": [
        {
          "name": "stdout",
          "output_type": "stream",
          "text": [
            "Enter a string: ahmed\n"
          ]
        },
        {
          "output_type": "display_data",
          "data": {
            "text/plain": [
              "<IPython.core.display.HTML object>"
            ],
            "text/html": [
              "<p style=\"color:red;font-weight:bold;\">\"ahmed\" is not a palindrome.</p>"
            ]
          },
          "metadata": {}
        }
      ],
      "source": [
        "\n",
        "# Import required module\n",
        "from IPython.display import display, HTML\n",
        "\n",
        "def is_palindrome(s: str) -> bool:\n",
        "    s = s.lower().replace(\" \", \"\")  # Convert to lowercase and remove spaces\n",
        "    return s == s[::-1]  # Check if the string is equal to its reverse\n",
        "\n",
        "# Create an input field for user input in Google Colab\n",
        "word = input(\"Enter a string: \")\n",
        "\n",
        "# Check and display the result\n",
        "if is_palindrome(word):\n",
        "    display(HTML(f'<p style=\"color:green;font-weight:bold;\">\"{word}\" is a palindrome.</p>'))\n",
        "else:\n",
        "    display(HTML(f'<p style=\"color:red;font-weight:bold;\">\"{word}\" is not a palindrome.</p>'))\n"
      ]
    }
  ]
}