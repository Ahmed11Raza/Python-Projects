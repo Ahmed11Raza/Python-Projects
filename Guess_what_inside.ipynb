{
  "nbformat": 4,
  "nbformat_minor": 0,
  "metadata": {
    "colab": {
      "provenance": [],
      "authorship_tag": "ABX9TyMBVQOug69sChJqvaq3majs",
      "include_colab_link": true
    },
    "kernelspec": {
      "name": "python3",
      "display_name": "Python 3"
    },
    "language_info": {
      "name": "python"
    }
  },
  "cells": [
    {
      "cell_type": "markdown",
      "metadata": {
        "id": "view-in-github",
        "colab_type": "text"
      },
      "source": [
        "<a href=\"https://colab.research.google.com/github/Ahmed11Raza/Python-Projects/blob/main/Guess_what_inside.ipynb\" target=\"_parent\"><img src=\"https://colab.research.google.com/assets/colab-badge.svg\" alt=\"Open In Colab\"/></a>"
      ]
    },
    {
      "cell_type": "code",
      "execution_count": 1,
      "metadata": {
        "colab": {
          "base_uri": "https://localhost:8080/"
        },
        "id": "jHYphLLntLht",
        "outputId": "bdb68e07-ad4c-43f4-f5df-489362b8deb8"
      },
      "outputs": [
        {
          "output_type": "stream",
          "name": "stdout",
          "text": [
            "Welcome to the Tricky Number Guessing Game!\n",
            "I'm thinking of a number between 1 and 100.\n",
            "Enter your guess: 12\n",
            "You're getting warmer.\n",
            "Enter your guess: 1\n",
            "You're cold.\n",
            "Enter your guess: 44\n",
            "You're cold.\n",
            "Enter your guess: 3\n",
            "You're cold.\n",
            "Enter your guess: 33\n",
            "You're cold.\n",
            "Enter your guess: 56\n",
            "You're cold.\n",
            "Enter your guess: 99\n",
            "You're cold.\n",
            "Enter your guess: 77\n",
            "You're cold.\n",
            "Enter your guess: 16\n",
            "You're way off!\n",
            "Enter your guess: 18\n",
            "You're way off!\n",
            "Sorry, you've run out of attempts. The number was 21.\n"
          ]
        }
      ],
      "source": [
        "import random\n",
        "\n",
        "def tricky_hint(secret_number, guess):\n",
        "    \"\"\"Generate a tricky hint based on the user's guess.\"\"\"\n",
        "    difference = abs(secret_number - guess)\n",
        "\n",
        "    if difference == 0:\n",
        "        return \"Congratulations! You guessed the correct number.\"\n",
        "    elif difference <= 5:\n",
        "        # Sometimes give a misleading hint\n",
        "        if random.choice([True, False]):\n",
        "            return \"You're very close!\"\n",
        "        else:\n",
        "            return \"You're way off!\"\n",
        "    elif difference <= 10:\n",
        "        return \"You're getting warmer.\"\n",
        "    else:\n",
        "        return \"You're cold.\"\n",
        "\n",
        "def number_guessing_game():\n",
        "    \"\"\"Main function to run the number guessing game.\"\"\"\n",
        "    print(\"Welcome to the Tricky Number Guessing Game!\")\n",
        "    print(\"I'm thinking of a number between 1 and 100.\")\n",
        "\n",
        "    secret_number = random.randint(1, 100)\n",
        "    attempts = 0\n",
        "    max_attempts = 10\n",
        "\n",
        "    while attempts < max_attempts:\n",
        "        try:\n",
        "            guess = int(input(\"Enter your guess: \"))\n",
        "            attempts += 1\n",
        "\n",
        "            hint = tricky_hint(secret_number, guess)\n",
        "            print(hint)\n",
        "\n",
        "            if guess == secret_number:\n",
        "                print(f\"You guessed the number in {attempts} attempts!\")\n",
        "                return\n",
        "        except ValueError:\n",
        "            print(\"Please enter a valid number.\")\n",
        "\n",
        "    print(f\"Sorry, you've run out of attempts. The number was {secret_number}.\")\n",
        "\n",
        "# Run the game\n",
        "number_guessing_game()3"
      ]
    }
  ]
}