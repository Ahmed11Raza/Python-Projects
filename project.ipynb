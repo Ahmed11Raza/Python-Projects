{
  "nbformat": 4,
  "nbformat_minor": 0,
  "metadata": {
    "colab": {
      "provenance": [],
      "authorship_tag": "ABX9TyOAe2YTrQ6Y5ud533RzNMMs",
      "include_colab_link": true
    },
    "kernelspec": {
      "name": "python3",
      "display_name": "Python 3"
    },
    "language_info": {
      "name": "python"
    }
  },
  "cells": [
    {
      "cell_type": "markdown",
      "metadata": {
        "id": "view-in-github",
        "colab_type": "text"
      },
      "source": [
        "<a href=\"https://colab.research.google.com/github/Ahmed11Raza/Python-Projects/blob/main/project.ipynb\" target=\"_parent\"><img src=\"https://colab.research.google.com/assets/colab-badge.svg\" alt=\"Open In Colab\"/></a>"
      ]
    },
    {
      "cell_type": "markdown",
      "source": [
        "#**Math solver with Steps**"
      ],
      "metadata": {
        "id": "HT9yIk-ujsyF"
      }
    },
    {
      "cell_type": "code",
      "source": [
        "!pip install sympy\n"
      ],
      "metadata": {
        "colab": {
          "base_uri": "https://localhost:8080/"
        },
        "id": "VXxp5MtIiGpT",
        "outputId": "42e4df08-7f87-42fc-ee2b-a0ecda70cb96"
      },
      "execution_count": 8,
      "outputs": [
        {
          "output_type": "stream",
          "name": "stdout",
          "text": [
            "Requirement already satisfied: sympy in /usr/local/lib/python3.10/dist-packages (1.13.1)\n",
            "Requirement already satisfied: mpmath<1.4,>=1.1.0 in /usr/local/lib/python3.10/dist-packages (from sympy) (1.3.0)\n"
          ]
        }
      ]
    },
    {
      "cell_type": "markdown",
      "source": [
        "#Create a Python Script:"
      ],
      "metadata": {
        "id": "mJuM2NZ0icHd"
      }
    },
    {
      "cell_type": "code",
      "source": [
        "from sympy import symbols, Eq, solve\n",
        "\n",
        "def solve_equation(equation_str):\n",
        "    # Define the symbols\n",
        "    x = symbols('x')\n",
        "\n",
        "    # Parse the equation\n",
        "    equation = Eq(eval(equation_str.replace('=', ',')), 0)\n",
        "\n",
        "    # Solve the equation\n",
        "    solution = solve(equation, x)\n",
        "\n",
        "    return solution\n",
        "\n",
        "# Example usage\n",
        "equation_str = \"2*x + 3 = 10\"\n",
        "solution = solve_equation(equation_str)\n",
        "print(f\"The solution to {equation_str} is {solution}\")\n"
      ],
      "metadata": {
        "colab": {
          "base_uri": "https://localhost:8080/"
        },
        "id": "X0duVl-kiL2b",
        "outputId": "ebce73a8-e2de-4b20-a1c9-c06f57553bb8"
      },
      "execution_count": 9,
      "outputs": [
        {
          "output_type": "stream",
          "name": "stdout",
          "text": [
            "The solution to 2*x + 3 = 10 is []\n"
          ]
        }
      ]
    },
    {
      "cell_type": "markdown",
      "source": [
        "#Add Step-by-Step Explanation:"
      ],
      "metadata": {
        "id": "YwD5XUoNisVA"
      }
    },
    {
      "cell_type": "code",
      "source": [
        "def explain_solution(equation_str):\n",
        "    x = symbols('x')\n",
        "    equation = Eq(eval(equation_str.replace('=', ',')), 0)\n",
        "    solution = solve(equation, x)\n",
        "\n",
        "    steps = []\n",
        "    steps.append(f\"Given equation: {equation_str}\")\n",
        "    steps.append(f\"Rewrite the equation: {equation}\")\n",
        "    steps.append(f\"Solve for x: {solution}\")\n",
        "\n",
        "    return steps\n",
        "\n",
        "# Example usage\n",
        "equation_str = \"2*x + 3 = 10\"\n",
        "steps = explain_solution(equation_str)\n",
        "for step in steps:\n",
        "    print(step)\n"
      ],
      "metadata": {
        "colab": {
          "base_uri": "https://localhost:8080/"
        },
        "id": "-IBvzW7YiobS",
        "outputId": "b986884d-5645-4e44-8889-fa1fad01613c"
      },
      "execution_count": 10,
      "outputs": [
        {
          "output_type": "stream",
          "name": "stdout",
          "text": [
            "Given equation: 2*x + 3 = 10\n",
            "Rewrite the equation: False\n",
            "Solve for x: []\n"
          ]
        }
      ]
    }
  ]
}