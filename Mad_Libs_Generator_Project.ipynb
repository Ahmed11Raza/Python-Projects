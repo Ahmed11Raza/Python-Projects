{
  "nbformat": 4,
  "nbformat_minor": 0,
  "metadata": {
    "colab": {
      "provenance": [],
      "authorship_tag": "ABX9TyPbIgRgpj8wVWe3rh4ZaxXx",
      "include_colab_link": true
    },
    "kernelspec": {
      "name": "python3",
      "display_name": "Python 3"
    },
    "language_info": {
      "name": "python"
    }
  },
  "cells": [
    {
      "cell_type": "markdown",
      "metadata": {
        "id": "view-in-github",
        "colab_type": "text"
      },
      "source": [
        "<a href=\"https://colab.research.google.com/github/Ahmed11Raza/Python-Projects/blob/main/Mad_Libs_Generator_Project.ipynb\" target=\"_parent\"><img src=\"https://colab.research.google.com/assets/colab-badge.svg\" alt=\"Open In Colab\"/></a>"
      ]
    },
    {
      "cell_type": "code",
      "execution_count": 1,
      "metadata": {
        "colab": {
          "base_uri": "https://localhost:8080/"
        },
        "id": "r4Nr_rRcRQQi",
        "outputId": "d3ef1e0a-e087-4e9d-e138-6e260a49a8da"
      },
      "outputs": [
        {
          "name": "stdout",
          "output_type": "stream",
          "text": [
            "Choose a Mad Libs story:\n",
            "\n",
            "1. The Magic Portal\n",
            "2. Space Adventure\n",
            "\n",
            "Enter the story number: 2\n"
          ]
        }
      ],
      "source": [
        "# Define story templates and prompts\n",
        "stories = [\n",
        "    {\n",
        "        \"title\": \"The Magic Portal\",\n",
        "        \"prompts\": [\"a noun (object)\", \"an adjective\", \"a verb\", \"a place\", \"a plural noun\", \"an emotion\"],\n",
        "        \"template\": \"\"\"\n",
        "Once upon a time, a curious child found a {0} hidden in the attic. It was {1} and glowing!\n",
        "When they touched it, the {0} began to {2} wildly. Suddenly, they were transported to {3},\n",
        "where they encountered a group of {4}. The child felt {5} and knew this was just the beginning...\n",
        "\"\"\"\n",
        "    },\n",
        "    {\n",
        "        \"title\": \"Space Adventure\",\n",
        "        \"prompts\": [\"a planet name\", \"a silly adjective\", \"a type of food\", \"an action verb\", \"a number\"],\n",
        "        \"template\": \"\"\"\n",
        "Captain! We've arrived at {0}, the most {1} planet in the galaxy.\n",
        "The inhabitants only eat {2} and are known to {3} when happy.\n",
        "Our mission will take approximately {4} Earth days. Engage!\n",
        "\"\"\"\n",
        "    }\n",
        "]\n",
        "\n",
        "# Display story choices\n",
        "print(\"Choose a Mad Libs story:\\n\")\n",
        "for idx, story in enumerate(stories):\n",
        "    print(f\"{idx + 1}. {story['title']}\")\n",
        "\n",
        "# Handle user selection\n",
        "try:\n",
        "    story_choice = int(input(\"\\nEnter the story number: \")) - 1\n",
        "    selected_story = stories[story_choice]\n",
        "except (ValueError, IndexError):\n",
        "    print(\"\\nInvalid selection. Please try again with a valid story number.\")\n",
        "    selected_story = None"
      ]
    },
    {
      "cell_type": "code",
      "source": [
        "# Collect user inputs if a valid story is selected\n",
        "if selected_story:\n",
        "    user_inputs = []\n",
        "    for prompt in selected_story['prompts']:\n",
        "        user_inputs.append(input(f\"Enter {prompt}: \"))\n",
        "    print(\"\\nGreat! Ready to generate your story...\\n\")\n",
        "else:\n",
        "    print(\"Please go back and select a valid story.\")"
      ],
      "metadata": {
        "colab": {
          "base_uri": "https://localhost:8080/"
        },
        "id": "gsB7_qkBRZGB",
        "outputId": "349aeb5b-e696-4b2d-823b-405c809a5cc4"
      },
      "execution_count": 2,
      "outputs": [
        {
          "output_type": "stream",
          "name": "stdout",
          "text": [
            "Enter a planet name: mars\n",
            "Enter a silly adjective: red planet\n",
            "Enter a type of food: liquid\n",
            "Enter an action verb: running\n",
            "Enter a number: 33\n",
            "\n",
            "Great! Ready to generate your story...\n",
            "\n"
          ]
        }
      ]
    },
    {
      "cell_type": "code",
      "source": [
        "# Generate and display the story\n",
        "if selected_story and user_inputs:\n",
        "    generated_story = selected_story['template'].format(*user_inputs)\n",
        "    print(\"=== YOUR MAD LIBS STORY ===\")\n",
        "    print(generated_story)\n",
        "else:\n",
        "    print(\"Story generation failed. Please check your inputs.\")"
      ],
      "metadata": {
        "colab": {
          "base_uri": "https://localhost:8080/"
        },
        "id": "LepGmhTxRmxG",
        "outputId": "f2e5cdfe-0d84-460a-f039-5a36d8f2df38"
      },
      "execution_count": 3,
      "outputs": [
        {
          "output_type": "stream",
          "name": "stdout",
          "text": [
            "=== YOUR MAD LIBS STORY ===\n",
            "\n",
            "Captain! We've arrived at mars, the most red planet planet in the galaxy. \n",
            "The inhabitants only eat liquid and are known to running when happy. \n",
            "Our mission will take approximately 33 Earth days. Engage!\n",
            "\n"
          ]
        }
      ]
    }
  ]
}